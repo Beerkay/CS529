{
 "cells": [
  {
   "cell_type": "code",
   "execution_count": 1,
   "metadata": {},
   "outputs": [
    {
     "name": "stderr",
     "output_type": "stream",
     "text": [
      "Using TensorFlow backend.\n"
     ]
    }
   ],
   "source": [
    "from keras.models import Sequential\n",
    "from keras.layers import Dense\n",
    "\n",
    "# This is the implementation of Stochastic Gradient Descent (SGD).\n",
    "from keras.optimizers import SGD\n",
    "\n",
    "# This is a dataset of handwritten images, that is very famous!\n",
    "from keras.datasets import mnist\n",
    "\n",
    "# This is a utility function that is very useful.\n",
    "from keras.utils import np_utils"
   ]
  },
  {
   "cell_type": "code",
   "execution_count": 2,
   "metadata": {},
   "outputs": [],
   "source": [
    "# Define some parameters.\n",
    "\n",
    "# The size of the batch that you're going to work with. Gradient Descent happens per batch.\n",
    "batch_size = 128\n",
    "\n",
    "# The number of classes in the dataset.\n",
    "nb_classes = 10\n",
    "\n",
    "# Number of epochs to train the model.\n",
    "nb_epoch = 100"
   ]
  },
  {
   "cell_type": "code",
   "execution_count": 3,
   "metadata": {},
   "outputs": [
    {
     "name": "stdout",
     "output_type": "stream",
     "text": [
      "Downloading data from https://s3.amazonaws.com/img-datasets/mnist.npz\n",
      "11493376/11490434 [==============================] - 29s 3us/step\n"
     ]
    }
   ],
   "source": [
    "# Load MNIST dataset\n",
    "(X_train, y_train), (X_test, y_test) = mnist.load_data()\n",
    "\n",
    "# The reshape function is a very useful function to use in ML. You'll see a lot of it. Often times, the shapes and \n",
    "# sizes of the arrays would be not as you would expect it to be. In such cases, you would use this to reshape the \n",
    "# array to the size that you'd want.\n",
    "X_train = X_train.reshape(60000, 784)\n",
    "X_test = X_test.reshape(10000, 784)\n",
    "\n",
    "# Affirming that the type of the data is float (infact type of the pixels)\n",
    "X_train = X_train.astype('float32')\n",
    "X_test = X_test.astype('float32')\n",
    "\n",
    "# Normalizing the pixel values.\n",
    "X_train /= 255\n",
    "X_test /= 255\n",
    "\n",
    "# Use these functions to convert the output classes to one-hot encodings.\n",
    "Y_Train = np_utils.to_categorical(y_train, nb_classes)\n",
    "Y_Test = np_utils.to_categorical(y_test, nb_classes)"
   ]
  },
  {
   "cell_type": "code",
   "execution_count": 4,
   "metadata": {},
   "outputs": [
    {
     "name": "stdout",
     "output_type": "stream",
     "text": [
      "WARNING:tensorflow:From //anaconda3/envs/work/lib/python3.6/site-packages/tensorflow/python/framework/op_def_library.py:263: colocate_with (from tensorflow.python.framework.ops) is deprecated and will be removed in a future version.\n",
      "Instructions for updating:\n",
      "Colocations handled automatically by placer.\n"
     ]
    },
    {
     "name": "stderr",
     "output_type": "stream",
     "text": [
      "//anaconda3/envs/work/lib/python3.6/site-packages/ipykernel_launcher.py:6: UserWarning: Update your `Dense` call to the Keras 2 API: `Dense(input_shape=(784,), activation=\"softmax\", units=10, kernel_initializer=\"normal\")`\n",
      "  \n"
     ]
    }
   ],
   "source": [
    "# Logistic regression model (a classification model)\n",
    "\n",
    "#----- Model Architecture Construction Begin ----------#\n",
    "\n",
    "model = Sequential()\n",
    "model.add(Dense(output_dim=10, input_shape=(784,), init='normal', activation='softmax'))\n",
    "\n",
    "#----- Model Architecture Construction End ----------#\n",
    "\n",
    "# Compile the model that you built.\n",
    "model.compile(optimizer=SGD(lr=0.05), loss='categorical_crossentropy', metrics=['accuracy'])"
   ]
  },
  {
   "cell_type": "code",
   "execution_count": 5,
   "metadata": {},
   "outputs": [
    {
     "name": "stdout",
     "output_type": "stream",
     "text": [
      "_________________________________________________________________\n",
      "Layer (type)                 Output Shape              Param #   \n",
      "=================================================================\n",
      "dense_1 (Dense)              (None, 10)                7850      \n",
      "=================================================================\n",
      "Total params: 7,850\n",
      "Trainable params: 7,850\n",
      "Non-trainable params: 0\n",
      "_________________________________________________________________\n"
     ]
    }
   ],
   "source": [
    "# Print the summary of the model.\n",
    "model.summary()"
   ]
  },
  {
   "cell_type": "code",
   "execution_count": 6,
   "metadata": {
    "scrolled": true
   },
   "outputs": [
    {
     "name": "stdout",
     "output_type": "stream",
     "text": [
      "WARNING:tensorflow:From //anaconda3/envs/work/lib/python3.6/site-packages/tensorflow/python/ops/math_ops.py:3066: to_int32 (from tensorflow.python.ops.math_ops) is deprecated and will be removed in a future version.\n",
      "Instructions for updating:\n",
      "Use tf.cast instead.\n"
     ]
    },
    {
     "name": "stderr",
     "output_type": "stream",
     "text": [
      "//anaconda3/envs/work/lib/python3.6/site-packages/ipykernel_launcher.py:2: UserWarning: The `nb_epoch` argument in `fit` has been renamed `epochs`.\n",
      "  \n"
     ]
    },
    {
     "name": "stdout",
     "output_type": "stream",
     "text": [
      "Epoch 1/100\n",
      "60000/60000 [==============================] - 2s 33us/step - loss: 0.7155 - acc: 0.8278\n",
      "Epoch 2/100\n",
      "60000/60000 [==============================] - 1s 10us/step - loss: 0.4328 - acc: 0.8844\n",
      "Epoch 3/100\n",
      "60000/60000 [==============================] - 1s 10us/step - loss: 0.3862 - acc: 0.8952\n",
      "Epoch 4/100\n",
      "60000/60000 [==============================] - 1s 11us/step - loss: 0.3624 - acc: 0.9008\n",
      "Epoch 5/100\n",
      "60000/60000 [==============================] - 1s 11us/step - loss: 0.3476 - acc: 0.9038\n",
      "Epoch 6/100\n",
      "60000/60000 [==============================] - 1s 11us/step - loss: 0.3369 - acc: 0.9066\n",
      "Epoch 7/100\n",
      "60000/60000 [==============================] - 1s 12us/step - loss: 0.3289 - acc: 0.9083\n",
      "Epoch 8/100\n",
      "60000/60000 [==============================] - 1s 14us/step - loss: 0.3224 - acc: 0.9105\n",
      "Epoch 9/100\n",
      "60000/60000 [==============================] - 1s 12us/step - loss: 0.3171 - acc: 0.9115\n",
      "Epoch 10/100\n",
      "60000/60000 [==============================] - 1s 12us/step - loss: 0.3127 - acc: 0.9131\n",
      "Epoch 11/100\n",
      "60000/60000 [==============================] - 1s 10us/step - loss: 0.3089 - acc: 0.9141\n",
      "Epoch 12/100\n",
      "60000/60000 [==============================] - 1s 10us/step - loss: 0.3055 - acc: 0.9156: 0s - loss: 0.3062 - acc: 0.915\n",
      "Epoch 13/100\n",
      "60000/60000 [==============================] - 1s 10us/step - loss: 0.3026 - acc: 0.9164\n",
      "Epoch 14/100\n",
      "60000/60000 [==============================] - 1s 10us/step - loss: 0.3000 - acc: 0.9164: 0s - loss: 0.3014 - acc: 0.9\n",
      "Epoch 15/100\n",
      "60000/60000 [==============================] - 1s 11us/step - loss: 0.2977 - acc: 0.9173\n",
      "Epoch 16/100\n",
      "60000/60000 [==============================] - 1s 11us/step - loss: 0.2956 - acc: 0.9181\n",
      "Epoch 17/100\n",
      "60000/60000 [==============================] - 1s 10us/step - loss: 0.2936 - acc: 0.9185\n",
      "Epoch 18/100\n",
      "60000/60000 [==============================] - 1s 10us/step - loss: 0.2918 - acc: 0.9189\n",
      "Epoch 19/100\n",
      "60000/60000 [==============================] - 1s 10us/step - loss: 0.2902 - acc: 0.9193\n",
      "Epoch 20/100\n",
      "60000/60000 [==============================] - 1s 10us/step - loss: 0.2887 - acc: 0.9200: 0s - loss: 0.2906 - acc: 0.91\n",
      "Epoch 21/100\n",
      "60000/60000 [==============================] - 1s 10us/step - loss: 0.2873 - acc: 0.9202\n",
      "Epoch 22/100\n",
      "60000/60000 [==============================] - 1s 10us/step - loss: 0.2861 - acc: 0.9208\n",
      "Epoch 23/100\n",
      "60000/60000 [==============================] - 1s 10us/step - loss: 0.2846 - acc: 0.9211: 0s - loss: 0.2851 - acc: 0.9\n",
      "Epoch 24/100\n",
      "60000/60000 [==============================] - 1s 11us/step - loss: 0.2837 - acc: 0.9208\n",
      "Epoch 25/100\n",
      "60000/60000 [==============================] - 1s 14us/step - loss: 0.2826 - acc: 0.9218\n",
      "Epoch 26/100\n",
      "60000/60000 [==============================] - 1s 12us/step - loss: 0.2815 - acc: 0.9217\n",
      "Epoch 27/100\n",
      "60000/60000 [==============================] - 1s 10us/step - loss: 0.2805 - acc: 0.9222\n",
      "Epoch 28/100\n",
      "60000/60000 [==============================] - 1s 10us/step - loss: 0.2796 - acc: 0.9225\n",
      "Epoch 29/100\n",
      "60000/60000 [==============================] - 1s 10us/step - loss: 0.2787 - acc: 0.9225\n",
      "Epoch 30/100\n",
      "60000/60000 [==============================] - 1s 10us/step - loss: 0.2780 - acc: 0.9232\n",
      "Epoch 31/100\n",
      "60000/60000 [==============================] - 1s 10us/step - loss: 0.2772 - acc: 0.9235\n",
      "Epoch 32/100\n",
      "60000/60000 [==============================] - 1s 12us/step - loss: 0.2764 - acc: 0.9233\n",
      "Epoch 33/100\n",
      "60000/60000 [==============================] - 1s 13us/step - loss: 0.2757 - acc: 0.9237\n",
      "Epoch 34/100\n",
      "60000/60000 [==============================] - 1s 14us/step - loss: 0.2749 - acc: 0.9239\n",
      "Epoch 35/100\n",
      "60000/60000 [==============================] - 1s 19us/step - loss: 0.2744 - acc: 0.9244\n",
      "Epoch 36/100\n",
      "60000/60000 [==============================] - 1s 15us/step - loss: 0.2738 - acc: 0.9239\n",
      "Epoch 37/100\n",
      "60000/60000 [==============================] - 1s 14us/step - loss: 0.2730 - acc: 0.9244\n",
      "Epoch 38/100\n",
      "60000/60000 [==============================] - 1s 14us/step - loss: 0.2725 - acc: 0.9247\n",
      "Epoch 39/100\n",
      "60000/60000 [==============================] - 1s 12us/step - loss: 0.2719 - acc: 0.9249\n",
      "Epoch 40/100\n",
      "60000/60000 [==============================] - 1s 15us/step - loss: 0.2712 - acc: 0.9250\n",
      "Epoch 41/100\n",
      "60000/60000 [==============================] - 1s 15us/step - loss: 0.2707 - acc: 0.9249\n",
      "Epoch 42/100\n",
      "60000/60000 [==============================] - 1s 20us/step - loss: 0.2702 - acc: 0.9255\n",
      "Epoch 43/100\n",
      "60000/60000 [==============================] - 1s 13us/step - loss: 0.2698 - acc: 0.9255\n",
      "Epoch 44/100\n",
      "60000/60000 [==============================] - 1s 16us/step - loss: 0.2693 - acc: 0.9256: 0s - loss: 0.2687 - acc:\n",
      "Epoch 45/100\n",
      "60000/60000 [==============================] - 1s 13us/step - loss: 0.2688 - acc: 0.9253\n",
      "Epoch 46/100\n",
      "60000/60000 [==============================] - 1s 10us/step - loss: 0.2683 - acc: 0.9254\n",
      "Epoch 47/100\n",
      "60000/60000 [==============================] - 1s 10us/step - loss: 0.2677 - acc: 0.9259\n",
      "Epoch 48/100\n",
      "60000/60000 [==============================] - 1s 10us/step - loss: 0.2675 - acc: 0.9260\n",
      "Epoch 49/100\n",
      "60000/60000 [==============================] - 1s 10us/step - loss: 0.2671 - acc: 0.9258\n",
      "Epoch 50/100\n",
      "60000/60000 [==============================] - 1s 10us/step - loss: 0.2666 - acc: 0.9264\n",
      "Epoch 51/100\n",
      "60000/60000 [==============================] - 1s 10us/step - loss: 0.2661 - acc: 0.9265\n",
      "Epoch 52/100\n",
      "60000/60000 [==============================] - 1s 10us/step - loss: 0.2658 - acc: 0.9263\n",
      "Epoch 53/100\n",
      "60000/60000 [==============================] - 1s 10us/step - loss: 0.2653 - acc: 0.9269\n",
      "Epoch 54/100\n",
      "60000/60000 [==============================] - 1s 10us/step - loss: 0.2651 - acc: 0.9266\n",
      "Epoch 55/100\n",
      "60000/60000 [==============================] - 1s 10us/step - loss: 0.2648 - acc: 0.9268\n",
      "Epoch 56/100\n",
      "60000/60000 [==============================] - 1s 10us/step - loss: 0.2644 - acc: 0.9270: 0s - loss: 0.2686 - acc\n",
      "Epoch 57/100\n",
      "60000/60000 [==============================] - 1s 10us/step - loss: 0.2641 - acc: 0.9272\n",
      "Epoch 58/100\n",
      "60000/60000 [==============================] - 1s 10us/step - loss: 0.2636 - acc: 0.9269\n",
      "Epoch 59/100\n",
      "60000/60000 [==============================] - 1s 10us/step - loss: 0.2633 - acc: 0.9274\n",
      "Epoch 60/100\n",
      "60000/60000 [==============================] - 1s 11us/step - loss: 0.2631 - acc: 0.9275\n",
      "Epoch 61/100\n",
      "60000/60000 [==============================] - 1s 10us/step - loss: 0.2628 - acc: 0.9278\n",
      "Epoch 62/100\n",
      "60000/60000 [==============================] - 1s 13us/step - loss: 0.2624 - acc: 0.9272\n",
      "Epoch 63/100\n",
      "60000/60000 [==============================] - 1s 10us/step - loss: 0.2621 - acc: 0.9275\n",
      "Epoch 64/100\n",
      "60000/60000 [==============================] - 1s 10us/step - loss: 0.2619 - acc: 0.9277: 0s - loss: 0.2596 - \n",
      "Epoch 65/100\n",
      "60000/60000 [==============================] - 1s 10us/step - loss: 0.2616 - acc: 0.9277\n",
      "Epoch 66/100\n",
      "60000/60000 [==============================] - 1s 14us/step - loss: 0.2613 - acc: 0.9277\n",
      "Epoch 67/100\n",
      "60000/60000 [==============================] - 1s 16us/step - loss: 0.2611 - acc: 0.9277\n",
      "Epoch 68/100\n",
      "60000/60000 [==============================] - 1s 13us/step - loss: 0.2607 - acc: 0.9281\n",
      "Epoch 69/100\n",
      "60000/60000 [==============================] - 1s 13us/step - loss: 0.2605 - acc: 0.9284\n",
      "Epoch 70/100\n",
      "60000/60000 [==============================] - 1s 15us/step - loss: 0.2602 - acc: 0.9280\n",
      "Epoch 71/100\n",
      "60000/60000 [==============================] - 1s 12us/step - loss: 0.2599 - acc: 0.9283\n",
      "Epoch 72/100\n",
      "60000/60000 [==============================] - 1s 11us/step - loss: 0.2597 - acc: 0.9288\n",
      "Epoch 73/100\n",
      "60000/60000 [==============================] - 1s 11us/step - loss: 0.2594 - acc: 0.9281\n",
      "Epoch 74/100\n",
      "60000/60000 [==============================] - 1s 10us/step - loss: 0.2592 - acc: 0.9284\n",
      "Epoch 75/100\n",
      "60000/60000 [==============================] - 1s 16us/step - loss: 0.2590 - acc: 0.9283\n",
      "Epoch 76/100\n",
      "60000/60000 [==============================] - 1s 16us/step - loss: 0.2589 - acc: 0.9285\n",
      "Epoch 77/100\n",
      "60000/60000 [==============================] - 1s 13us/step - loss: 0.2584 - acc: 0.9288\n",
      "Epoch 78/100\n",
      "60000/60000 [==============================] - 1s 15us/step - loss: 0.2584 - acc: 0.9287\n",
      "Epoch 79/100\n"
     ]
    },
    {
     "name": "stdout",
     "output_type": "stream",
     "text": [
      "60000/60000 [==============================] - 1s 14us/step - loss: 0.2581 - acc: 0.9288: 0s - loss: 0.2567 - acc:\n",
      "Epoch 80/100\n",
      "60000/60000 [==============================] - 1s 11us/step - loss: 0.2579 - acc: 0.9286\n",
      "Epoch 81/100\n",
      "60000/60000 [==============================] - 1s 11us/step - loss: 0.2576 - acc: 0.9285\n",
      "Epoch 82/100\n",
      "60000/60000 [==============================] - 1s 13us/step - loss: 0.2574 - acc: 0.9293\n",
      "Epoch 83/100\n",
      "60000/60000 [==============================] - 1s 13us/step - loss: 0.2572 - acc: 0.9290\n",
      "Epoch 84/100\n",
      "60000/60000 [==============================] - 1s 15us/step - loss: 0.2571 - acc: 0.9291\n",
      "Epoch 85/100\n",
      "60000/60000 [==============================] - 1s 13us/step - loss: 0.2567 - acc: 0.9294: 0s - loss: 0.2584 - acc: 0\n",
      "Epoch 86/100\n",
      "60000/60000 [==============================] - 1s 11us/step - loss: 0.2567 - acc: 0.9291\n",
      "Epoch 87/100\n",
      "60000/60000 [==============================] - 1s 10us/step - loss: 0.2565 - acc: 0.9291\n",
      "Epoch 88/100\n",
      "60000/60000 [==============================] - 1s 10us/step - loss: 0.2561 - acc: 0.9293: 0s - loss: 0.2567 - acc: 0.\n",
      "Epoch 89/100\n",
      "60000/60000 [==============================] - 1s 10us/step - loss: 0.2560 - acc: 0.9294\n",
      "Epoch 90/100\n",
      "60000/60000 [==============================] - 1s 10us/step - loss: 0.2558 - acc: 0.9294\n",
      "Epoch 91/100\n",
      "60000/60000 [==============================] - 1s 13us/step - loss: 0.2556 - acc: 0.9300\n",
      "Epoch 92/100\n",
      "60000/60000 [==============================] - 1s 10us/step - loss: 0.2555 - acc: 0.9294\n",
      "Epoch 93/100\n",
      "60000/60000 [==============================] - 1s 11us/step - loss: 0.2553 - acc: 0.9295\n",
      "Epoch 94/100\n",
      "60000/60000 [==============================] - 1s 11us/step - loss: 0.2551 - acc: 0.9298\n",
      "Epoch 95/100\n",
      "60000/60000 [==============================] - 1s 10us/step - loss: 0.2549 - acc: 0.9297\n",
      "Epoch 96/100\n",
      "60000/60000 [==============================] - 1s 10us/step - loss: 0.2548 - acc: 0.9300\n",
      "Epoch 97/100\n",
      "60000/60000 [==============================] - 1s 10us/step - loss: 0.2546 - acc: 0.9296\n",
      "Epoch 98/100\n",
      "60000/60000 [==============================] - 1s 11us/step - loss: 0.2544 - acc: 0.9303\n",
      "Epoch 99/100\n",
      "60000/60000 [==============================] - 1s 12us/step - loss: 0.2543 - acc: 0.9298\n",
      "Epoch 100/100\n",
      "60000/60000 [==============================] - 1s 14us/step - loss: 0.2541 - acc: 0.9298\n"
     ]
    }
   ],
   "source": [
    "# Train\n",
    "history = model.fit(X_train, Y_Train, nb_epoch=nb_epoch, batch_size=batch_size, verbose=1)"
   ]
  },
  {
   "cell_type": "code",
   "execution_count": 9,
   "metadata": {},
   "outputs": [
    {
     "data": {
      "text/plain": [
       "['loss', 'acc']"
      ]
     },
     "execution_count": 9,
     "metadata": {},
     "output_type": "execute_result"
    }
   ],
   "source": [
    "# The names of the parameters of the 'evaluation' array.\n",
    "model.metrics_names"
   ]
  },
  {
   "cell_type": "code",
   "execution_count": 7,
   "metadata": {},
   "outputs": [
    {
     "name": "stdout",
     "output_type": "stream",
     "text": [
      "10000/10000 [==============================] - 0s 40us/step\n",
      "Summary: Loss over the test dataset: 0.27, Accuracy: 0.93\n"
     ]
    }
   ],
   "source": [
    "# Evaluate the metrics over the test set.\n",
    "evaluation = model.evaluate(X_test, Y_Test, verbose=1)\n",
    "print('Summary: Loss over the test dataset: %.2f, Accuracy: %.2f' % (evaluation[0], evaluation[1]))"
   ]
  }
 ],
 "metadata": {
  "kernelspec": {
   "display_name": "Python 3",
   "language": "python",
   "name": "python3"
  },
  "language_info": {
   "codemirror_mode": {
    "name": "ipython",
    "version": 3
   },
   "file_extension": ".py",
   "mimetype": "text/x-python",
   "name": "python",
   "nbconvert_exporter": "python",
   "pygments_lexer": "ipython3",
   "version": "3.6.9"
  }
 },
 "nbformat": 4,
 "nbformat_minor": 1
}
