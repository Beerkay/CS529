{
 "cells": [
  {
   "cell_type": "code",
   "execution_count": 1,
   "metadata": {},
   "outputs": [
    {
     "name": "stderr",
     "output_type": "stream",
     "text": [
      "Using TensorFlow backend.\n"
     ]
    }
   ],
   "source": [
    "#Import the required layers from the Keras library.\n",
    "from keras.models import Sequential\n",
    "\n",
    "# The 'Dense' layers are a kind of densely connected network in which all the neurons are interconnected.\n",
    "from keras.layers import Dense\n",
    "\n",
    "import numpy as np\n",
    "import matplotlib.pyplot as plt\n",
    "\n",
    "# No need to use plt.plot()\n",
    "%matplotlib inline"
   ]
  },
  {
   "cell_type": "code",
   "execution_count": 2,
   "metadata": {},
   "outputs": [],
   "source": [
    "# Generate dataset\n",
    "# Return evenly spaced numbers over a specified interval.\n",
    "trX = np.linspace(-1, 1, 101)\n",
    "\n",
    "# Create a y value which is approximately linear but with some random noise.\n",
    "trY = 2 * trX + np.random.randn(*trX.shape) * 0.33 "
   ]
  },
  {
   "cell_type": "code",
   "execution_count": 3,
   "metadata": {},
   "outputs": [
    {
     "name": "stdout",
     "output_type": "stream",
     "text": [
      "WARNING:tensorflow:From //anaconda3/envs/work/lib/python3.6/site-packages/tensorflow/python/framework/op_def_library.py:263: colocate_with (from tensorflow.python.framework.ops) is deprecated and will be removed in a future version.\n",
      "Instructions for updating:\n",
      "Colocations handled automatically by placer.\n"
     ]
    },
    {
     "name": "stderr",
     "output_type": "stream",
     "text": [
      "//anaconda3/envs/work/lib/python3.6/site-packages/ipykernel_launcher.py:10: UserWarning: Update your `Dense` call to the Keras 2 API: `Dense(input_dim=1, activation=\"linear\", units=1, kernel_initializer=\"uniform\")`\n",
      "  # Remove the CWD from sys.path while we load stuff.\n"
     ]
    }
   ],
   "source": [
    "# Linear regression model\n",
    "\n",
    "#----------- Beginning of Model Construction----------#\n",
    "\n",
    "# This is the standard template for building models in Keras.\n",
    "model = Sequential()\n",
    "\n",
    "# After the previous line, you can keep adding multiple layers (stacking them). In this case, we'll only have a \n",
    "# single layer.\n",
    "model.add(Dense(input_dim=1, output_dim=1, init='uniform', activation='linear'))\n",
    "\n",
    "#----------- End of Model Construction----------#\n",
    "\n",
    "# Once the model is built, you'll then have to compile it \n",
    "# (similar to how you compile a program and it creates an executable).\n",
    "model.compile(optimizer='sgd', loss='mse')"
   ]
  },
  {
   "cell_type": "code",
   "execution_count": 9,
   "metadata": {},
   "outputs": [
    {
     "name": "stdout",
     "output_type": "stream",
     "text": [
      "_________________________________________________________________\n",
      "Layer (type)                 Output Shape              Param #   \n",
      "=================================================================\n",
      "dense_1 (Dense)              (None, 1)                 2         \n",
      "=================================================================\n",
      "Total params: 2\n",
      "Trainable params: 2\n",
      "Non-trainable params: 0\n",
      "_________________________________________________________________\n"
     ]
    }
   ],
   "source": [
    "# This gives us the summary of the model. The number of layers, the input and the output size for each layer.\n",
    "# And also the total number of parameters.\n",
    "\n",
    "model.summary()"
   ]
  },
  {
   "cell_type": "code",
   "execution_count": 5,
   "metadata": {},
   "outputs": [
    {
     "name": "stdout",
     "output_type": "stream",
     "text": [
      "Linear regression model is initialized with weight w: -0.05, b: 0.00\n"
     ]
    }
   ],
   "source": [
    "# Print initial weights\n",
    "\n",
    "# This is the syntax to get the initial weights. Remember, that the weights are randomly initialized.\n",
    "weights = model.layers[0].get_weights()\n",
    "w_init = weights[0][0][0]\n",
    "b_init = weights[1][0]\n",
    "print('Linear regression model is initialized with weight w: %.2f, b: %.2f' % (w_init, b_init))"
   ]
  },
  {
   "cell_type": "code",
   "execution_count": 6,
   "metadata": {},
   "outputs": [
    {
     "name": "stdout",
     "output_type": "stream",
     "text": [
      "WARNING:tensorflow:From //anaconda3/envs/work/lib/python3.6/site-packages/tensorflow/python/ops/math_ops.py:3066: to_int32 (from tensorflow.python.ops.math_ops) is deprecated and will be removed in a future version.\n",
      "Instructions for updating:\n",
      "Use tf.cast instead.\n",
      "Epoch 1/100\n"
     ]
    },
    {
     "name": "stderr",
     "output_type": "stream",
     "text": [
      "//anaconda3/envs/work/lib/python3.6/site-packages/ipykernel_launcher.py:5: UserWarning: The `nb_epoch` argument in `fit` has been renamed `epochs`.\n",
      "  \"\"\"\n"
     ]
    },
    {
     "name": "stdout",
     "output_type": "stream",
     "text": [
      "101/101 [==============================] - 0s 922us/step - loss: 1.4464\n",
      "Epoch 2/100\n",
      "101/101 [==============================] - 0s 77us/step - loss: 1.3819\n",
      "Epoch 3/100\n",
      "101/101 [==============================] - 0s 59us/step - loss: 1.3131\n",
      "Epoch 4/100\n",
      "101/101 [==============================] - 0s 89us/step - loss: 1.2494\n",
      "Epoch 5/100\n",
      "101/101 [==============================] - 0s 48us/step - loss: 1.1852\n",
      "Epoch 6/100\n",
      "101/101 [==============================] - 0s 82us/step - loss: 1.1206\n",
      "Epoch 7/100\n",
      "101/101 [==============================] - 0s 49us/step - loss: 1.0686\n",
      "Epoch 8/100\n",
      "101/101 [==============================] - 0s 69us/step - loss: 1.0153\n",
      "Epoch 9/100\n",
      "101/101 [==============================] - 0s 74us/step - loss: 0.9590\n",
      "Epoch 10/100\n",
      "101/101 [==============================] - 0s 73us/step - loss: 0.9137\n",
      "Epoch 11/100\n",
      "101/101 [==============================] - 0s 57us/step - loss: 0.8710\n",
      "Epoch 12/100\n",
      "101/101 [==============================] - 0s 68us/step - loss: 0.8221\n",
      "Epoch 13/100\n",
      "101/101 [==============================] - 0s 65us/step - loss: 0.7858\n",
      "Epoch 14/100\n",
      "101/101 [==============================] - 0s 54us/step - loss: 0.7487\n",
      "Epoch 15/100\n",
      "101/101 [==============================] - 0s 70us/step - loss: 0.7157\n",
      "Epoch 16/100\n",
      "101/101 [==============================] - 0s 49us/step - loss: 0.6861\n",
      "Epoch 17/100\n",
      "101/101 [==============================] - 0s 98us/step - loss: 0.6567\n",
      "Epoch 18/100\n",
      "101/101 [==============================] - 0s 46us/step - loss: 0.6277\n",
      "Epoch 19/100\n",
      "101/101 [==============================] - 0s 98us/step - loss: 0.5993\n",
      "Epoch 20/100\n",
      "101/101 [==============================] - 0s 52us/step - loss: 0.5755\n",
      "Epoch 21/100\n",
      "101/101 [==============================] - 0s 99us/step - loss: 0.5468\n",
      "Epoch 22/100\n",
      "101/101 [==============================] - 0s 49us/step - loss: 0.5227\n",
      "Epoch 23/100\n",
      "101/101 [==============================] - 0s 90us/step - loss: 0.5011\n",
      "Epoch 24/100\n",
      "101/101 [==============================] - 0s 49us/step - loss: 0.4800\n",
      "Epoch 25/100\n",
      "101/101 [==============================] - 0s 88us/step - loss: 0.4588\n",
      "Epoch 26/100\n",
      "101/101 [==============================] - 0s 56us/step - loss: 0.4397\n",
      "Epoch 27/100\n",
      "101/101 [==============================] - 0s 102us/step - loss: 0.4208\n",
      "Epoch 28/100\n",
      "101/101 [==============================] - 0s 52us/step - loss: 0.4057\n",
      "Epoch 29/100\n",
      "101/101 [==============================] - 0s 87us/step - loss: 0.3909\n",
      "Epoch 30/100\n",
      "101/101 [==============================] - 0s 49us/step - loss: 0.3761\n",
      "Epoch 31/100\n",
      "101/101 [==============================] - 0s 91us/step - loss: 0.3618\n",
      "Epoch 32/100\n",
      "101/101 [==============================] - 0s 51us/step - loss: 0.3483\n",
      "Epoch 33/100\n",
      "101/101 [==============================] - 0s 102us/step - loss: 0.3350\n",
      "Epoch 34/100\n",
      "101/101 [==============================] - 0s 50us/step - loss: 0.3219\n",
      "Epoch 35/100\n",
      "101/101 [==============================] - 0s 111us/step - loss: 0.3104\n",
      "Epoch 36/100\n",
      "101/101 [==============================] - 0s 61us/step - loss: 0.2992\n",
      "Epoch 37/100\n",
      "101/101 [==============================] - 0s 86us/step - loss: 0.2904\n",
      "Epoch 38/100\n",
      "101/101 [==============================] - 0s 78us/step - loss: 0.2816\n",
      "Epoch 39/100\n",
      "101/101 [==============================] - 0s 82us/step - loss: 0.2726\n",
      "Epoch 40/100\n",
      "101/101 [==============================] - 0s 72us/step - loss: 0.2654\n",
      "Epoch 41/100\n",
      "101/101 [==============================] - 0s 64us/step - loss: 0.2586\n",
      "Epoch 42/100\n",
      "101/101 [==============================] - 0s 71us/step - loss: 0.2513\n",
      "Epoch 43/100\n",
      "101/101 [==============================] - 0s 72us/step - loss: 0.2441\n",
      "Epoch 44/100\n",
      "101/101 [==============================] - 0s 78us/step - loss: 0.2369\n",
      "Epoch 45/100\n",
      "101/101 [==============================] - 0s 80us/step - loss: 0.2312\n",
      "Epoch 46/100\n",
      "101/101 [==============================] - 0s 71us/step - loss: 0.2264\n",
      "Epoch 47/100\n",
      "101/101 [==============================] - 0s 69us/step - loss: 0.2202\n",
      "Epoch 48/100\n",
      "101/101 [==============================] - 0s 72us/step - loss: 0.2143\n",
      "Epoch 49/100\n",
      "101/101 [==============================] - 0s 74us/step - loss: 0.2090\n",
      "Epoch 50/100\n",
      "101/101 [==============================] - 0s 98us/step - loss: 0.2037\n",
      "Epoch 51/100\n",
      "101/101 [==============================] - 0s 80us/step - loss: 0.1994\n",
      "Epoch 52/100\n",
      "101/101 [==============================] - 0s 70us/step - loss: 0.1952\n",
      "Epoch 53/100\n",
      "101/101 [==============================] - 0s 58us/step - loss: 0.1908\n",
      "Epoch 54/100\n",
      "101/101 [==============================] - 0s 83us/step - loss: 0.1868\n",
      "Epoch 55/100\n",
      "101/101 [==============================] - 0s 58us/step - loss: 0.1836\n",
      "Epoch 56/100\n",
      "101/101 [==============================] - 0s 73us/step - loss: 0.1806\n",
      "Epoch 57/100\n",
      "101/101 [==============================] - 0s 55us/step - loss: 0.1761\n",
      "Epoch 58/100\n",
      "101/101 [==============================] - 0s 74us/step - loss: 0.1733\n",
      "Epoch 59/100\n",
      "101/101 [==============================] - 0s 56us/step - loss: 0.1709\n",
      "Epoch 60/100\n",
      "101/101 [==============================] - 0s 95us/step - loss: 0.1684\n",
      "Epoch 61/100\n",
      "101/101 [==============================] - 0s 46us/step - loss: 0.1656\n",
      "Epoch 62/100\n",
      "101/101 [==============================] - 0s 72us/step - loss: 0.1625\n",
      "Epoch 63/100\n",
      "101/101 [==============================] - 0s 51us/step - loss: 0.1603\n",
      "Epoch 64/100\n",
      "101/101 [==============================] - 0s 76us/step - loss: 0.1582\n",
      "Epoch 65/100\n",
      "101/101 [==============================] - 0s 50us/step - loss: 0.1563\n",
      "Epoch 66/100\n",
      "101/101 [==============================] - 0s 76us/step - loss: 0.1545\n",
      "Epoch 67/100\n",
      "101/101 [==============================] - 0s 66us/step - loss: 0.1529\n",
      "Epoch 68/100\n",
      "101/101 [==============================] - 0s 60us/step - loss: 0.1515\n",
      "Epoch 69/100\n",
      "101/101 [==============================] - 0s 64us/step - loss: 0.1499\n",
      "Epoch 70/100\n",
      "101/101 [==============================] - 0s 69us/step - loss: 0.1486\n",
      "Epoch 71/100\n",
      "101/101 [==============================] - 0s 73us/step - loss: 0.1470\n",
      "Epoch 72/100\n",
      "101/101 [==============================] - 0s 68us/step - loss: 0.1454\n",
      "Epoch 73/100\n",
      "101/101 [==============================] - 0s 71us/step - loss: 0.1441\n",
      "Epoch 74/100\n",
      "101/101 [==============================] - 0s 68us/step - loss: 0.1426\n",
      "Epoch 75/100\n",
      "101/101 [==============================] - 0s 60us/step - loss: 0.1414\n",
      "Epoch 76/100\n",
      "101/101 [==============================] - 0s 82us/step - loss: 0.1400\n",
      "Epoch 77/100\n",
      "101/101 [==============================] - 0s 66us/step - loss: 0.1388\n",
      "Epoch 78/100\n",
      "101/101 [==============================] - 0s 64us/step - loss: 0.1377\n",
      "Epoch 79/100\n",
      "101/101 [==============================] - 0s 69us/step - loss: 0.1369\n",
      "Epoch 80/100\n",
      "101/101 [==============================] - 0s 75us/step - loss: 0.1361\n",
      "Epoch 81/100\n",
      "101/101 [==============================] - 0s 71us/step - loss: 0.1355\n",
      "Epoch 82/100\n",
      "101/101 [==============================] - 0s 66us/step - loss: 0.1345\n",
      "Epoch 83/100\n",
      "101/101 [==============================] - 0s 64us/step - loss: 0.1338\n",
      "Epoch 84/100\n",
      "101/101 [==============================] - 0s 66us/step - loss: 0.1333\n",
      "Epoch 85/100\n",
      "101/101 [==============================] - 0s 67us/step - loss: 0.1328\n",
      "Epoch 86/100\n",
      "101/101 [==============================] - 0s 85us/step - loss: 0.1322\n",
      "Epoch 87/100\n",
      "101/101 [==============================] - 0s 55us/step - loss: 0.1316\n",
      "Epoch 88/100\n",
      "101/101 [==============================] - 0s 76us/step - loss: 0.1310\n",
      "Epoch 89/100\n",
      "101/101 [==============================] - 0s 69us/step - loss: 0.1303\n",
      "Epoch 90/100\n",
      "101/101 [==============================] - 0s 72us/step - loss: 0.1301\n",
      "Epoch 91/100\n",
      "101/101 [==============================] - 0s 61us/step - loss: 0.1298\n",
      "Epoch 92/100\n",
      "101/101 [==============================] - 0s 75us/step - loss: 0.1289\n",
      "Epoch 93/100\n",
      "101/101 [==============================] - 0s 76us/step - loss: 0.1283\n",
      "Epoch 94/100\n",
      "101/101 [==============================] - 0s 89us/step - loss: 0.1278\n",
      "Epoch 95/100\n",
      "101/101 [==============================] - 0s 42us/step - loss: 0.1273\n",
      "Epoch 96/100\n",
      "101/101 [==============================] - 0s 75us/step - loss: 0.1271\n",
      "Epoch 97/100\n",
      "101/101 [==============================] - 0s 62us/step - loss: 0.1268\n",
      "Epoch 98/100\n"
     ]
    },
    {
     "name": "stdout",
     "output_type": "stream",
     "text": [
      "101/101 [==============================] - 0s 101us/step - loss: 0.1265\n",
      "Epoch 99/100\n",
      "101/101 [==============================] - 0s 101us/step - loss: 0.1264\n",
      "Epoch 100/100\n",
      "101/101 [==============================] - 0s 106us/step - loss: 0.1260\n"
     ]
    },
    {
     "data": {
      "text/plain": [
       "<keras.callbacks.History at 0x1281abb70>"
      ]
     },
     "execution_count": 6,
     "metadata": {},
     "output_type": "execute_result"
    }
   ],
   "source": [
    "# Train\n",
    "\n",
    "# This piece of code, trains your model. You pass in trainX, trainY and also specify the number of iterations \n",
    "# for training the model.\n",
    "model.fit(trX, trY, nb_epoch=100, verbose=1)"
   ]
  },
  {
   "cell_type": "code",
   "execution_count": 7,
   "metadata": {},
   "outputs": [
    {
     "name": "stdout",
     "output_type": "stream",
     "text": [
      "Linear regression model is trained with weight w: 1.82, b: -0.00\n"
     ]
    }
   ],
   "source": [
    "# Print trained weights\n",
    "\n",
    "# Printing the weights after the model is trained.\n",
    "weights = model.layers[0].get_weights()\n",
    "\n",
    "w = weights[0][0][0]\n",
    "b = weights[1][0]\n",
    "\n",
    "print('Linear regression model is trained with weight w: %.2f, b: %.2f' % (w, b))"
   ]
  },
  {
   "cell_type": "code",
   "execution_count": 8,
   "metadata": {},
   "outputs": [
    {
     "data": {
      "text/plain": [
       "<matplotlib.legend.Legend at 0x12a411860>"
      ]
     },
     "execution_count": 8,
     "metadata": {},
     "output_type": "execute_result"
    },
    {
     "data": {
      "image/png": "[encoded data removed]",
      "text/plain": [
       "<Figure size 432x288 with 1 Axes>"
      ]
     },
     "metadata": {
      "needs_background": "light"
     },
     "output_type": "display_data"
    }
   ],
   "source": [
    "# Plot the given data, prediction with the initial weights, and the final predictions.\n",
    "plt.plot(trX, trY, label='data')\n",
    "\n",
    "# Plot of predictions with initial weights\n",
    "plt.plot(trX, w_init*trX + b_init, label='init')\n",
    "\n",
    "# Plot of predictions with final weights.\n",
    "plt.plot(trX, w*trX + b, label='prediction')\n",
    "\n",
    "plt.legend()"
   ]
  }
 ],
 "metadata": {
  "kernelspec": {
   "display_name": "Python 3",
   "language": "python",
   "name": "python3"
  },
  "language_info": {
   "codemirror_mode": {
    "name": "ipython",
    "version": 3
   },
   "file_extension": ".py",
   "mimetype": "text/x-python",
   "name": "python",
   "nbconvert_exporter": "python",
   "pygments_lexer": "ipython3",
   "version": "3.6.9"
  }
 },
 "nbformat": 4,
 "nbformat_minor": 1
}
