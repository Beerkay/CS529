{
 "cells": [
  {
   "cell_type": "code",
   "execution_count": 14,
   "metadata": {},
   "outputs": [],
   "source": [
    "from keras.models import Sequential\n",
    "from keras.layers import Dense, Input\n",
    "\n",
    "from keras.models import Model\n",
    "\n",
    "# This is the implementation of Stochastic Gradient Descent (SGD).\n",
    "from keras.optimizers import SGD\n",
    "\n",
    "# This is a dataset of handwritten images, that is very famous!\n",
    "from keras.datasets import mnist\n",
    "\n",
    "# This is a utility function that is very useful.\n",
    "from keras.utils import np_utils"
   ]
  },
  {
   "cell_type": "code",
   "execution_count": 15,
   "metadata": {},
   "outputs": [],
   "source": [
    "# Define some parameters.\n",
    "\n",
    "# The size of the batch that you're going to work with. Gradient Descent happens per batch.\n",
    "batch_size = 128\n",
    "\n",
    "# The number of classes in the dataset.\n",
    "nb_classes = 10\n",
    "\n",
    "# Number of epochs to train the model.\n",
    "nb_epoch = 100"
   ]
  },
  {
   "cell_type": "code",
   "execution_count": 16,
   "metadata": {},
   "outputs": [],
   "source": [
    "# Load MNIST dataset\n",
    "(X_train, y_train), (X_test, y_test) = mnist.load_data()\n",
    "\n",
    "# The reshape function is a very useful function to use in ML. You'll see a lot of it. Often times, the shapes and \n",
    "# sizes of the arrays would be not as you would expect it to be. In such cases, you would use this to reshape the \n",
    "# array to the size that you'd want.\n",
    "X_train = X_train.reshape(60000, 784)\n",
    "X_test = X_test.reshape(10000, 784)\n",
    "\n",
    "# Affirming that the type of the data is float (infact type of the pixels)\n",
    "X_train = X_train.astype('float32')\n",
    "X_test = X_test.astype('float32')\n",
    "\n",
    "# Normalizing the pixel values.\n",
    "X_train /= 255\n",
    "X_test /= 255\n",
    "\n",
    "# Use these functions to convert the output classes to one-hot encodings.\n",
    "Y_Train = np_utils.to_categorical(y_train, nb_classes)\n",
    "Y_Test = np_utils.to_categorical(y_test, nb_classes)"
   ]
  },
  {
   "cell_type": "markdown",
   "metadata": {},
   "source": [
    "## Artificial Neural Networks"
   ]
  },
  {
   "cell_type": "markdown",
   "metadata": {},
   "source": [
    "#### Model Construction Method 1. ( I prefer this :) Gives me more control on the output of each and every layer! )"
   ]
  },
  {
   "cell_type": "code",
   "execution_count": 17,
   "metadata": {},
   "outputs": [
    {
     "name": "stderr",
     "output_type": "stream",
     "text": [
      "/Users/adgdri/anaconda3/envs/work/lib/python3.7/site-packages/ipykernel_launcher.py:8: UserWarning: Update your `Dense` call to the Keras 2 API: `Dense(input_dim=784, activation=\"sigmoid\", units=625, kernel_initializer=\"normal\")`\n",
      "  \n",
      "/Users/adgdri/anaconda3/envs/work/lib/python3.7/site-packages/ipykernel_launcher.py:9: UserWarning: Update your `Dense` call to the Keras 2 API: `Dense(input_dim=625, activation=\"sigmoid\", units=625, kernel_initializer=\"normal\")`\n",
      "  if __name__ == '__main__':\n",
      "/Users/adgdri/anaconda3/envs/work/lib/python3.7/site-packages/ipykernel_launcher.py:10: UserWarning: Update your `Dense` call to the Keras 2 API: `Dense(input_dim=625, activation=\"softmax\", units=10, kernel_initializer=\"normal\")`\n",
      "  # Remove the CWD from sys.path while we load stuff.\n"
     ]
    }
   ],
   "source": [
    "# Multilayer Perceptron model\n",
    "\n",
    "#----- Model Architecture Construction Begin ----------#\n",
    "\n",
    "# Define the model input!\n",
    "inputs = Input(shape=(784,))\n",
    "\n",
    "x = Dense(output_dim=625, input_dim=784, init='normal', activation='sigmoid')(inputs)\n",
    "x = Dense(output_dim=625, input_dim=625, init='normal', activation='sigmoid')(x)\n",
    "predictions = Dense(output_dim=10, input_dim=625, init='normal', activation='softmax')(x)\n",
    "\n",
    "model = Model(inputs=inputs, outputs=predictions)\n",
    "#----- Model Architecture Construction End ----------#\n",
    "\n",
    "# The loss function used here is 'categorical_crossentropy'.\n",
    "model.compile(optimizer=SGD(lr=0.05), loss='categorical_crossentropy', metrics=['accuracy'])"
   ]
  },
  {
   "cell_type": "markdown",
   "metadata": {},
   "source": [
    "#### Model Construction Method 2."
   ]
  },
  {
   "cell_type": "code",
   "execution_count": 5,
   "metadata": {},
   "outputs": [
    {
     "name": "stderr",
     "output_type": "stream",
     "text": [
      "/Users/adgdri/anaconda3/envs/work/lib/python3.7/site-packages/ipykernel_launcher.py:5: UserWarning: Update your `Dense` call to the Keras 2 API: `Dense(input_dim=784, activation=\"sigmoid\", units=625, kernel_initializer=\"normal\")`\n",
      "  \"\"\"\n",
      "/Users/adgdri/anaconda3/envs/work/lib/python3.7/site-packages/ipykernel_launcher.py:6: UserWarning: Update your `Dense` call to the Keras 2 API: `Dense(input_dim=625, activation=\"sigmoid\", units=625, kernel_initializer=\"normal\")`\n",
      "  \n",
      "/Users/adgdri/anaconda3/envs/work/lib/python3.7/site-packages/ipykernel_launcher.py:7: UserWarning: Update your `Dense` call to the Keras 2 API: `Dense(input_dim=625, activation=\"softmax\", units=10, kernel_initializer=\"normal\")`\n",
      "  import sys\n"
     ]
    }
   ],
   "source": [
    "# Multilayer Perceptron model\n",
    "\n",
    "#----- Model Architecture Construction Begin ----------#\n",
    "model = Sequential()\n",
    "model.add(Dense(output_dim=625, input_dim=784, init='normal', activation='sigmoid'))\n",
    "model.add(Dense(output_dim=625, input_dim=625, init='normal', activation='sigmoid'))\n",
    "model.add(Dense(output_dim=10, input_dim=625, init='normal', activation='softmax'))\n",
    "#----- Model Architecture Construction End ----------#\n",
    "\n",
    "# The loss function used here is 'categorical_crossentropy'.\n",
    "model.compile(optimizer=SGD(lr=0.05), loss='categorical_crossentropy', metrics=['accuracy'])"
   ]
  },
  {
   "cell_type": "code",
   "execution_count": 18,
   "metadata": {},
   "outputs": [
    {
     "name": "stdout",
     "output_type": "stream",
     "text": [
      "Model: \"model_1\"\n",
      "_________________________________________________________________\n",
      "Layer (type)                 Output Shape              Param #   \n",
      "=================================================================\n",
      "input_3 (InputLayer)         (None, 784)               0         \n",
      "_________________________________________________________________\n",
      "dense_8 (Dense)              (None, 625)               490625    \n",
      "_________________________________________________________________\n",
      "dense_9 (Dense)              (None, 625)               391250    \n",
      "_________________________________________________________________\n",
      "dense_10 (Dense)             (None, 10)                6260      \n",
      "=================================================================\n",
      "Total params: 888,135\n",
      "Trainable params: 888,135\n",
      "Non-trainable params: 0\n",
      "_________________________________________________________________\n"
     ]
    }
   ],
   "source": [
    "# View the architecture of the model.\n",
    "model.summary()"
   ]
  },
  {
   "cell_type": "code",
   "execution_count": null,
   "metadata": {},
   "outputs": [
    {
     "name": "stderr",
     "output_type": "stream",
     "text": [
      "/Users/adgdri/anaconda3/envs/work/lib/python3.7/site-packages/ipykernel_launcher.py:2: UserWarning: The `nb_epoch` argument in `fit` has been renamed `epochs`.\n",
      "  \n"
     ]
    },
    {
     "name": "stdout",
     "output_type": "stream",
     "text": [
      "WARNING:tensorflow:From /Users/adgdri/anaconda3/envs/work/lib/python3.7/site-packages/keras/backend/tensorflow_backend.py:422: The name tf.global_variables is deprecated. Please use tf.compat.v1.global_variables instead.\n",
      "\n",
      "Epoch 1/100\n",
      "60000/60000 [==============================] - 12s 194us/step - loss: 1.9100 - accuracy: 0.4281\n",
      "Epoch 2/100\n",
      "60000/60000 [==============================] - 12s 204us/step - loss: 0.9282 - accuracy: 0.7759\n",
      "Epoch 3/100\n",
      "60000/60000 [==============================] - 13s 217us/step - loss: 0.5880 - accuracy: 0.8446\n",
      "Epoch 4/100\n",
      "60000/60000 [==============================] - 13s 214us/step - loss: 0.4732 - accuracy: 0.8722\n",
      "Epoch 5/100\n",
      "60000/60000 [==============================] - 13s 223us/step - loss: 0.4186 - accuracy: 0.8834\n",
      "Epoch 6/100\n",
      "60000/60000 [==============================] - 15s 242us/step - loss: 0.3866 - accuracy: 0.8907\n",
      "Epoch 7/100\n",
      "60000/60000 [==============================] - 16s 266us/step - loss: 0.3655 - accuracy: 0.8959\n",
      "Epoch 8/100\n",
      "60000/60000 [==============================] - 14s 239us/step - loss: 0.3507 - accuracy: 0.8998\n",
      "Epoch 9/100\n",
      " 7040/60000 [==>...........................] - ETA: 13s - loss: 0.3486 - accuracy: 0.9028"
     ]
    }
   ],
   "source": [
    "# Train the model.\n",
    "history = model.fit(X_train, Y_Train, nb_epoch=nb_epoch, batch_size=batch_size, verbose=1)"
   ]
  },
  {
   "cell_type": "code",
   "execution_count": 7,
   "metadata": {},
   "outputs": [
    {
     "data": {
      "text/plain": [
       "['loss', 'acc']"
      ]
     },
     "execution_count": 7,
     "metadata": {},
     "output_type": "execute_result"
    }
   ],
   "source": [
    "# Names of the 2 values in 'evaluation' array.\n",
    "model.metrics_names"
   ]
  },
  {
   "cell_type": "code",
   "execution_count": 6,
   "metadata": {},
   "outputs": [
    {
     "name": "stdout",
     "output_type": "stream",
     "text": [
      " 9984/10000 [============================>.] - ETA: 0sSummary: Loss over the test dataset: 0.13, Accuracy: 0.96\n"
     ]
    }
   ],
   "source": [
    "# Evaluate\n",
    "evaluation = model.evaluate(X_test, Y_Test, verbose=1)\n",
    "print('Summary: Loss over the test dataset: %.2f, Accuracy: %.2f' % (evaluation[0], evaluation[1]))"
   ]
  },
  {
   "cell_type": "markdown",
   "metadata": {},
   "source": [
    "## Modern Artificial Neural Networks"
   ]
  },
  {
   "cell_type": "code",
   "execution_count": 9,
   "metadata": {},
   "outputs": [],
   "source": [
    "# Import a few essential functions.\n",
    "from keras.layers import Dense, Activation, Dropout\n",
    "from keras.optimizers import RMSprop"
   ]
  },
  {
   "cell_type": "code",
   "execution_count": 17,
   "metadata": {},
   "outputs": [
    {
     "name": "stderr",
     "output_type": "stream",
     "text": [
      "//anaconda3/envs/work/lib/python3.6/site-packages/ipykernel_launcher.py:3: UserWarning: Update your `Dense` call to the Keras 2 API: `Dense(input_dim=784, units=625, kernel_initializer=\"normal\")`\n",
      "  This is separate from the ipykernel package so we can avoid doing imports until\n",
      "//anaconda3/envs/work/lib/python3.6/site-packages/ipykernel_launcher.py:12: UserWarning: Update your `Dense` call to the Keras 2 API: `Dense(input_dim=625, units=625, kernel_initializer=\"normal\")`\n",
      "  if sys.path[0] == '':\n",
      "//anaconda3/envs/work/lib/python3.6/site-packages/ipykernel_launcher.py:15: UserWarning: Update your `Dense` call to the Keras 2 API: `Dense(input_dim=625, units=10, kernel_initializer=\"normal\")`\n",
      "  from ipykernel import kernelapp as app\n"
     ]
    }
   ],
   "source": [
    "# Deep Multilayer Perceptron model\n",
    "model = Sequential()\n",
    "model.add(Dense(output_dim=625, input_dim=784, init='normal'))\n",
    "\n",
    "# Notice how we're adding something called an activation. There are different kind of activation functions.\n",
    "# The most commonly used activation function is 'ReLu' : Rectified Linear Units.\n",
    "model.add(Activation('relu'))\n",
    "\n",
    "# This is another recent concept. This is used to prevent overfitting by the network on your data. This is similar to\n",
    "# the use of regularization in linear regression.\n",
    "model.add(Dropout(0.2))\n",
    "model.add(Dense(output_dim=625, input_dim=625, init='normal'))\n",
    "model.add(Activation('relu'))\n",
    "model.add(Dropout(0.5))\n",
    "model.add(Dense(output_dim=10, input_dim=625, init='normal'))\n",
    "# The activation 'softmax' is an activation function that is used as the final layer of all classification models,\n",
    "# because the output of this is in terms of probabilities.\n",
    "model.add(Activation('softmax'))\n",
    "\n",
    "model.compile(optimizer=RMSprop(lr=0.001, rho=0.9), loss='categorical_crossentropy', metrics=['accuracy'])"
   ]
  },
  {
   "cell_type": "code",
   "execution_count": 18,
   "metadata": {},
   "outputs": [
    {
     "name": "stdout",
     "output_type": "stream",
     "text": [
      "_________________________________________________________________\n",
      "Layer (type)                 Output Shape              Param #   \n",
      "=================================================================\n",
      "dense_8 (Dense)              (None, 625)               490625    \n",
      "_________________________________________________________________\n",
      "activation_4 (Activation)    (None, 625)               0         \n",
      "_________________________________________________________________\n",
      "dropout_3 (Dropout)          (None, 625)               0         \n",
      "_________________________________________________________________\n",
      "dense_9 (Dense)              (None, 625)               391250    \n",
      "_________________________________________________________________\n",
      "activation_5 (Activation)    (None, 625)               0         \n",
      "_________________________________________________________________\n",
      "dropout_4 (Dropout)          (None, 625)               0         \n",
      "_________________________________________________________________\n",
      "dense_10 (Dense)             (None, 10)                6260      \n",
      "_________________________________________________________________\n",
      "activation_6 (Activation)    (None, 10)                0         \n",
      "=================================================================\n",
      "Total params: 888,135\n",
      "Trainable params: 888,135\n",
      "Non-trainable params: 0\n",
      "_________________________________________________________________\n"
     ]
    }
   ],
   "source": [
    "model.summary()"
   ]
  },
  {
   "cell_type": "code",
   "execution_count": 21,
   "metadata": {
    "scrolled": true
   },
   "outputs": [
    {
     "name": "stdout",
     "output_type": "stream",
     "text": [
      "WARNING:tensorflow:From //anaconda3/envs/work/lib/python3.6/site-packages/tensorflow/python/ops/math_ops.py:3066: to_int32 (from tensorflow.python.ops.math_ops) is deprecated and will be removed in a future version.\n",
      "Instructions for updating:\n",
      "Use tf.cast instead.\n"
     ]
    },
    {
     "name": "stderr",
     "output_type": "stream",
     "text": [
      "//anaconda3/envs/work/lib/python3.6/site-packages/ipykernel_launcher.py:2: UserWarning: The `nb_epoch` argument in `fit` has been renamed `epochs`.\n",
      "  \n"
     ]
    },
    {
     "name": "stdout",
     "output_type": "stream",
     "text": [
      "Epoch 1/100\n",
      "60000/60000 [==============================] - 11s 187us/step - loss: 0.2745 - acc: 0.9164\n",
      "Epoch 2/100\n",
      "60000/60000 [==============================] - 10s 174us/step - loss: 0.1203 - acc: 0.9649\n",
      "Epoch 3/100\n",
      "60000/60000 [==============================] - 8s 136us/step - loss: 0.0940 - acc: 0.9729\n",
      "Epoch 4/100\n",
      "60000/60000 [==============================] - 8s 135us/step - loss: 0.0806 - acc: 0.9777\n",
      "Epoch 5/100\n",
      "60000/60000 [==============================] - 8s 139us/step - loss: 0.0715 - acc: 0.9803\n",
      "Epoch 6/100\n",
      "60000/60000 [==============================] - 11s 179us/step - loss: 0.0609 - acc: 0.9843\n",
      "Epoch 7/100\n",
      "60000/60000 [==============================] - 9s 151us/step - loss: 0.0562 - acc: 0.9855\n",
      "Epoch 8/100\n",
      "60000/60000 [==============================] - 8s 137us/step - loss: 0.0548 - acc: 0.9860\n",
      "Epoch 9/100\n",
      "60000/60000 [==============================] - 8s 136us/step - loss: 0.0514 - acc: 0.9874\n",
      "Epoch 10/100\n",
      "60000/60000 [==============================] - 8s 137us/step - loss: 0.0459 - acc: 0.9885\n",
      "Epoch 11/100\n",
      "60000/60000 [==============================] - 8s 141us/step - loss: 0.0448 - acc: 0.9893\n",
      "Epoch 12/100\n",
      "60000/60000 [==============================] - 8s 140us/step - loss: 0.0423 - acc: 0.9901\n",
      "Epoch 13/100\n",
      "60000/60000 [==============================] - 10s 173us/step - loss: 0.0408 - acc: 0.9908\n",
      "Epoch 14/100\n",
      "60000/60000 [==============================] - 10s 164us/step - loss: 0.0400 - acc: 0.9907\n",
      "Epoch 15/100\n",
      "60000/60000 [==============================] - 10s 160us/step - loss: 0.0372 - acc: 0.99150s - loss: 0.0370 - ac\n",
      "Epoch 16/100\n",
      "60000/60000 [==============================] - 9s 157us/step - loss: 0.0359 - acc: 0.9923\n",
      "Epoch 17/100\n",
      "60000/60000 [==============================] - 12s 204us/step - loss: 0.0373 - acc: 0.9914\n",
      "Epoch 18/100\n",
      "60000/60000 [==============================] - 12s 202us/step - loss: 0.0319 - acc: 0.9928\n",
      "Epoch 19/100\n",
      "60000/60000 [==============================] - 10s 164us/step - loss: 0.0312 - acc: 0.9926\n",
      "Epoch 20/100\n",
      "60000/60000 [==============================] - 9s 147us/step - loss: 0.0336 - acc: 0.9930\n",
      "Epoch 21/100\n",
      "60000/60000 [==============================] - 9s 144us/step - loss: 0.0337 - acc: 0.9929\n",
      "Epoch 22/100\n",
      "60000/60000 [==============================] - 9s 146us/step - loss: 0.0408 - acc: 0.9924\n",
      "Epoch 23/100\n",
      "60000/60000 [==============================] - 9s 145us/step - loss: 0.0370 - acc: 0.9932\n",
      "Epoch 24/100\n",
      "60000/60000 [==============================] - 9s 145us/step - loss: 0.0387 - acc: 0.9930\n",
      "Epoch 25/100\n",
      "60000/60000 [==============================] - 9s 147us/step - loss: 0.0341 - acc: 0.9936\n",
      "Epoch 26/100\n",
      "60000/60000 [==============================] - 10s 159us/step - loss: 0.0359 - acc: 0.9936\n",
      "Epoch 27/100\n",
      "60000/60000 [==============================] - 9s 145us/step - loss: 0.0365 - acc: 0.9937\n",
      "Epoch 28/100\n",
      "60000/60000 [==============================] - 9s 144us/step - loss: 0.0369 - acc: 0.9937\n",
      "Epoch 29/100\n",
      "60000/60000 [==============================] - 9s 145us/step - loss: 0.0385 - acc: 0.9936\n",
      "Epoch 30/100\n",
      "60000/60000 [==============================] - 9s 143us/step - loss: 0.0331 - acc: 0.9944\n",
      "Epoch 31/100\n",
      "60000/60000 [==============================] - 9s 144us/step - loss: 0.0384 - acc: 0.9936\n",
      "Epoch 32/100\n",
      "60000/60000 [==============================] - 9s 144us/step - loss: 0.0313 - acc: 0.9946\n",
      "Epoch 33/100\n",
      "60000/60000 [==============================] - 9s 143us/step - loss: 0.0391 - acc: 0.9938\n",
      "Epoch 34/100\n",
      "60000/60000 [==============================] - 9s 143us/step - loss: 0.0367 - acc: 0.9943\n",
      "Epoch 35/100\n",
      "60000/60000 [==============================] - 9s 151us/step - loss: 0.0353 - acc: 0.9946\n",
      "Epoch 36/100\n",
      "60000/60000 [==============================] - 12s 202us/step - loss: 0.0355 - acc: 0.9942\n",
      "Epoch 37/100\n",
      "60000/60000 [==============================] - 9s 158us/step - loss: 0.0375 - acc: 0.9942 0s - loss: 0.0371 - acc: \n",
      "Epoch 38/100\n",
      "60000/60000 [==============================] - 10s 162us/step - loss: 0.0384 - acc: 0.9942\n",
      "Epoch 39/100\n",
      "60000/60000 [==============================] - 10s 167us/step - loss: 0.0420 - acc: 0.9940\n",
      "Epoch 40/100\n",
      "60000/60000 [==============================] - 9s 148us/step - loss: 0.0349 - acc: 0.9947\n",
      "Epoch 41/100\n",
      "60000/60000 [==============================] - 9s 144us/step - loss: 0.0323 - acc: 0.9952\n",
      "Epoch 42/100\n",
      "60000/60000 [==============================] - 12s 195us/step - loss: 0.0291 - acc: 0.9955\n",
      "Epoch 43/100\n",
      "60000/60000 [==============================] - 9s 156us/step - loss: 0.0323 - acc: 0.9951\n",
      "Epoch 44/100\n",
      "60000/60000 [==============================] - 10s 170us/step - loss: 0.0321 - acc: 0.9954\n",
      "Epoch 45/100\n",
      "60000/60000 [==============================] - 10s 167us/step - loss: 0.0280 - acc: 0.9958\n",
      "Epoch 46/100\n",
      "60000/60000 [==============================] - 9s 144us/step - loss: 0.0356 - acc: 0.9950\n",
      "Epoch 47/100\n",
      "60000/60000 [==============================] - 9s 150us/step - loss: 0.0318 - acc: 0.9953\n",
      "Epoch 48/100\n",
      "60000/60000 [==============================] - 9s 142us/step - loss: 0.0304 - acc: 0.9953\n",
      "Epoch 49/100\n",
      "60000/60000 [==============================] - 9s 143us/step - loss: 0.0364 - acc: 0.9947\n",
      "Epoch 50/100\n",
      "60000/60000 [==============================] - 9s 143us/step - loss: 0.0337 - acc: 0.9956\n",
      "Epoch 51/100\n",
      "60000/60000 [==============================] - 9s 142us/step - loss: 0.0369 - acc: 0.9949\n",
      "Epoch 52/100\n",
      "60000/60000 [==============================] - 9s 142us/step - loss: 0.0361 - acc: 0.9951\n",
      "Epoch 53/100\n",
      "60000/60000 [==============================] - 9s 151us/step - loss: 0.0334 - acc: 0.9953\n",
      "Epoch 54/100\n",
      "60000/60000 [==============================] - 9s 145us/step - loss: 0.0377 - acc: 0.9951\n",
      "Epoch 55/100\n",
      "60000/60000 [==============================] - 9s 142us/step - loss: 0.0338 - acc: 0.9956\n",
      "Epoch 56/100\n",
      "60000/60000 [==============================] - 8s 141us/step - loss: 0.0319 - acc: 0.9955\n",
      "Epoch 57/100\n",
      "60000/60000 [==============================] - 9s 144us/step - loss: 0.0380 - acc: 0.9953\n",
      "Epoch 58/100\n",
      "60000/60000 [==============================] - 9s 144us/step - loss: 0.0367 - acc: 0.9953\n",
      "Epoch 59/100\n",
      "60000/60000 [==============================] - 9s 142us/step - loss: 0.0413 - acc: 0.9950\n",
      "Epoch 60/100\n",
      "60000/60000 [==============================] - 9s 144us/step - loss: 0.0383 - acc: 0.9950\n",
      "Epoch 61/100\n",
      "60000/60000 [==============================] - 8s 141us/step - loss: 0.0378 - acc: 0.9954\n",
      "Epoch 62/100\n",
      "60000/60000 [==============================] - 9s 155us/step - loss: 0.0404 - acc: 0.9952\n",
      "Epoch 63/100\n",
      "60000/60000 [==============================] - 9s 144us/step - loss: 0.0410 - acc: 0.9950\n",
      "Epoch 64/100\n",
      "60000/60000 [==============================] - 9s 151us/step - loss: 0.0377 - acc: 0.9954\n",
      "Epoch 65/100\n",
      "60000/60000 [==============================] - 9s 145us/step - loss: 0.0325 - acc: 0.9961\n",
      "Epoch 66/100\n",
      "60000/60000 [==============================] - 9s 143us/step - loss: 0.0407 - acc: 0.9953\n",
      "Epoch 67/100\n",
      "60000/60000 [==============================] - 9s 155us/step - loss: 0.0443 - acc: 0.9946\n",
      "Epoch 68/100\n",
      "60000/60000 [==============================] - 9s 149us/step - loss: 0.0408 - acc: 0.9954\n",
      "Epoch 69/100\n",
      "60000/60000 [==============================] - 9s 146us/step - loss: 0.0558 - acc: 0.9942\n",
      "Epoch 70/100\n",
      "60000/60000 [==============================] - 9s 149us/step - loss: 0.0466 - acc: 0.9949\n",
      "Epoch 71/100\n",
      "60000/60000 [==============================] - 9s 149us/step - loss: 0.0466 - acc: 0.9948\n",
      "Epoch 72/100\n",
      "60000/60000 [==============================] - 9s 146us/step - loss: 0.0449 - acc: 0.9950\n",
      "Epoch 73/100\n",
      "60000/60000 [==============================] - 9s 146us/step - loss: 0.0415 - acc: 0.9953\n",
      "Epoch 74/100\n",
      "60000/60000 [==============================] - 9s 147us/step - loss: 0.0499 - acc: 0.9944\n",
      "Epoch 75/100\n",
      "60000/60000 [==============================] - 9s 147us/step - loss: 0.0512 - acc: 0.9947\n",
      "Epoch 76/100\n",
      "60000/60000 [==============================] - 10s 162us/step - loss: 0.0570 - acc: 0.9941\n",
      "Epoch 77/100\n",
      "60000/60000 [==============================] - 12s 196us/step - loss: 0.0459 - acc: 0.9950\n",
      "Epoch 78/100\n",
      "60000/60000 [==============================] - 10s 161us/step - loss: 0.0454 - acc: 0.9953\n",
      "Epoch 79/100\n",
      "60000/60000 [==============================] - 10s 163us/step - loss: 0.0477 - acc: 0.9951\n",
      "Epoch 80/100\n",
      "60000/60000 [==============================] - 13s 209us/step - loss: 0.0406 - acc: 0.9950\n",
      "Epoch 81/100\n",
      "60000/60000 [==============================] - 9s 142us/step - loss: 0.0443 - acc: 0.9952\n",
      "Epoch 82/100\n",
      "60000/60000 [==============================] - 8s 140us/step - loss: 0.0435 - acc: 0.9955\n",
      "Epoch 83/100\n",
      "60000/60000 [==============================] - 9s 148us/step - loss: 0.0404 - acc: 0.9958\n",
      "Epoch 84/100\n",
      "60000/60000 [==============================] - 9s 143us/step - loss: 0.0405 - acc: 0.9956\n",
      "Epoch 85/100\n",
      "60000/60000 [==============================] - 8s 139us/step - loss: 0.0467 - acc: 0.9951\n",
      "Epoch 86/100\n",
      "60000/60000 [==============================] - 8s 138us/step - loss: 0.0576 - acc: 0.9946\n",
      "Epoch 87/100\n",
      "60000/60000 [==============================] - 8s 138us/step - loss: 0.0474 - acc: 0.9949\n",
      "Epoch 88/100\n",
      "60000/60000 [==============================] - 9s 145us/step - loss: 0.0476 - acc: 0.9951\n",
      "Epoch 89/100\n",
      "60000/60000 [==============================] - 9s 155us/step - loss: 0.0512 - acc: 0.9948\n",
      "Epoch 90/100\n",
      "60000/60000 [==============================] - 9s 150us/step - loss: 0.0510 - acc: 0.9950\n",
      "Epoch 91/100\n",
      "60000/60000 [==============================] - 9s 147us/step - loss: 0.0496 - acc: 0.9947\n",
      "Epoch 92/100\n",
      "60000/60000 [==============================] - 9s 144us/step - loss: 0.0498 - acc: 0.9949\n",
      "Epoch 93/100\n",
      "60000/60000 [==============================] - 11s 179us/step - loss: 0.0474 - acc: 0.9954\n",
      "Epoch 94/100\n",
      "60000/60000 [==============================] - 11s 179us/step - loss: 0.0420 - acc: 0.9958\n",
      "Epoch 95/100\n",
      "60000/60000 [==============================] - 10s 169us/step - loss: 0.0469 - acc: 0.9953\n",
      "Epoch 96/100\n",
      "60000/60000 [==============================] - 10s 163us/step - loss: 0.0533 - acc: 0.9947\n",
      "Epoch 97/100\n",
      "60000/60000 [==============================] - 8s 140us/step - loss: 0.0553 - acc: 0.9947\n",
      "Epoch 98/100\n",
      "60000/60000 [==============================] - 8s 139us/step - loss: 0.0697 - acc: 0.9935\n",
      "Epoch 99/100\n",
      "60000/60000 [==============================] - 8s 139us/step - loss: 0.0657 - acc: 0.9942\n",
      "Epoch 100/100\n",
      "60000/60000 [==============================] - 8s 139us/step - loss: 0.0543 - acc: 0.9948\n"
     ]
    }
   ],
   "source": [
    "# Train\n",
    "history = model.fit(X_train, Y_Train, nb_epoch=nb_epoch, batch_size=batch_size, verbose=1)"
   ]
  },
  {
   "cell_type": "code",
   "execution_count": 22,
   "metadata": {},
   "outputs": [
    {
     "name": "stdout",
     "output_type": "stream",
     "text": [
      "10000/10000 [==============================] - 1s 74us/step\n",
      "Summary: Loss over the test dataset: 0.22, Accuracy: 0.98\n"
     ]
    }
   ],
   "source": [
    "# Evaluate\n",
    "evaluation = model.evaluate(X_test, Y_Test, verbose=1)\n",
    "print('Summary: Loss over the test dataset: %.2f, Accuracy: %.2f' % (evaluation[0], evaluation[1]))"
   ]
  }
 ],
 "metadata": {
  "kernelspec": {
   "display_name": "Python 3",
   "language": "python",
   "name": "python3"
  },
  "language_info": {
   "codemirror_mode": {
    "name": "ipython",
    "version": 3
   },
   "file_extension": ".py",
   "mimetype": "text/x-python",
   "name": "python",
   "nbconvert_exporter": "python",
   "pygments_lexer": "ipython3",
   "version": "3.7.4"
  }
 },
 "nbformat": 4,
 "nbformat_minor": 1
}
